{
 "cells": [
  {
   "cell_type": "code",
   "execution_count": 3,
   "metadata": {},
   "outputs": [],
   "source": [
    "import pandas as pd"
   ]
  },
  {
   "cell_type": "code",
   "execution_count": 18,
   "metadata": {
    "scrolled": true
   },
   "outputs": [
    {
     "ename": "TypeError",
     "evalue": "unhashable type: 'dict'",
     "output_type": "error",
     "traceback": [
      "\u001b[0;31m------------------------------------------\u001b[0m",
      "\u001b[0;31mTypeError\u001b[0mTraceback (most recent call last)",
      "\u001b[0;32m<ipython-input-18-fb22207493fc>\u001b[0m in \u001b[0;36m<module>\u001b[0;34m\u001b[0m\n\u001b[1;32m     13\u001b[0m         \u001b[0;34m{\u001b[0m\u001b[0;34m'age'\u001b[0m\u001b[0;34m:\u001b[0m\u001b[0;36m2\u001b[0m\u001b[0;34m}\u001b[0m\u001b[0;34m,\u001b[0m\u001b[0;34m\u001b[0m\u001b[0;34m\u001b[0m\u001b[0m\n\u001b[1;32m     14\u001b[0m         \u001b[0;34m{\u001b[0m\u001b[0;34m'age'\u001b[0m\u001b[0;34m:\u001b[0m\u001b[0;36m2\u001b[0m\u001b[0;34m}\u001b[0m\u001b[0;34m,\u001b[0m\u001b[0;34m\u001b[0m\u001b[0;34m\u001b[0m\u001b[0m\n\u001b[0;32m---> 15\u001b[0;31m         \u001b[0;34m{\u001b[0m\u001b[0;34m'age'\u001b[0m\u001b[0;34m:\u001b[0m\u001b[0;36m2\u001b[0m\u001b[0;34m}\u001b[0m\u001b[0;34m\u001b[0m\u001b[0;34m\u001b[0m\u001b[0m\n\u001b[0m\u001b[1;32m     16\u001b[0m }\n\u001b[1;32m     17\u001b[0m \u001b[0ml_pd\u001b[0m \u001b[0;34m=\u001b[0m \u001b[0mpd\u001b[0m\u001b[0;34m.\u001b[0m\u001b[0mDataFrame\u001b[0m\u001b[0;34m(\u001b[0m\u001b[0mlista\u001b[0m\u001b[0;34m)\u001b[0m\u001b[0;34m\u001b[0m\u001b[0;34m\u001b[0m\u001b[0m\n",
      "\u001b[0;31mTypeError\u001b[0m: unhashable type: 'dict'"
     ]
    }
   ],
   "source": [
    "lista = [\n",
    "    {'no':'si',\n",
    "    'name':'oswa'},\n",
    "       {'no':'si',\n",
    "    'name':'oswa'},\n",
    "    {'no':'si',\n",
    "    'name':'oswa'},\n",
    "    {'no':'si',\n",
    "    'name':'oswa'},\n",
    "]\n",
    "lista2 = [\n",
    "    {'age':2},\n",
    "        {'age':2},\n",
    "        {'age':2},\n",
    "        {'age':2}\n",
    "]\n",
    "l_pd = pd.DataFrame(lista)\n",
    "\n",
    "l_pd2 = pd.DataFrame(lista2)\n",
    "\n",
    "l_pd['age'] = l_pd2['age']\n",
    "l_pd = l_pd.set_index('age')\n",
    "\n",
    "print(l_pd)\n",
    "print(l_pd2)"
   ]
  },
  {
   "cell_type": "code",
   "execution_count": 31,
   "metadata": {},
   "outputs": [
    {
     "data": {
      "text/html": [
       "<div>\n",
       "<style scoped>\n",
       "    .dataframe tbody tr th:only-of-type {\n",
       "        vertical-align: middle;\n",
       "    }\n",
       "\n",
       "    .dataframe tbody tr th {\n",
       "        vertical-align: top;\n",
       "    }\n",
       "\n",
       "    .dataframe thead th {\n",
       "        text-align: right;\n",
       "    }\n",
       "</style>\n",
       "<table border=\"1\" class=\"dataframe\">\n",
       "  <thead>\n",
       "    <tr style=\"text-align: right;\">\n",
       "      <th></th>\n",
       "      <th>index</th>\n",
       "      <th>outer1</th>\n",
       "    </tr>\n",
       "  </thead>\n",
       "  <tbody>\n",
       "    <tr>\n",
       "      <th>0</th>\n",
       "      <td>inner1</td>\n",
       "      <td>v11</td>\n",
       "    </tr>\n",
       "    <tr>\n",
       "      <th>1</th>\n",
       "      <td>inner2</td>\n",
       "      <td>v12</td>\n",
       "    </tr>\n",
       "  </tbody>\n",
       "</table>\n",
       "</div>"
      ],
      "text/plain": [
       "    index outer1\n",
       "0  inner1    v11\n",
       "1  inner2    v12"
      ]
     },
     "execution_count": 31,
     "metadata": {},
     "output_type": "execute_result"
    }
   ],
   "source": [
    "lista3 =  {\"outer1\": {\"inner2\": \"v12\", \"inner1\": \"v11\"}}\n",
    "df3 = pd.DataFrame(lista3)\n",
    "df3 = df3.reset_index()\n",
    "df3"
   ]
  },
  {
   "cell_type": "code",
   "execution_count": 42,
   "metadata": {},
   "outputs": [],
   "source": [
    "import requests\n",
    "from bs4 import BeautifulSoup"
   ]
  },
  {
   "cell_type": "code",
   "execution_count": 49,
   "metadata": {},
   "outputs": [
    {
     "data": {
      "text/plain": [
       "b'<!DOCTYPE html>\\n<html lang=\"es\" dir=\"ltr\" prefix=\"content: http://purl.org/rss/1.0/modules/content/ dc: http://purl.org/dc/terms/ foaf: http://xmlns.com/foaf/0.1/ og: http://ogp.me/ns# rdfs: http://www.w3.org/2000/01/rdf-schema# sioc: http://rdfs.org/sioc/ns# sioct: http://rdfs.org/sioc/types# skos: http://www.w3.org/2004/02/skos/core# xsd: http://www.w3.org/2001/XMLSchema# owl: http://www.w3.org/2002/07/owl# rdf: http://www.w3.org/1999/02/22-rdf-syntax-ns# rss: http://purl.org/rss/1.0/ site: https://datos.jalisco.gob.mx/ns# dcat: http://www.w3.org/ns/dcat#\">\\n<head>\\n  <link rel=\"profile\" href=\"http://www.w3.org/1999/xhtml/vocab\" />\\n  <meta charset=\"utf-8\">\\n  <meta name=\"viewport\" content=\"width=device-width, initial-scale=1.0, minimum-scale=1.0, maximum-scale=1.0, user-scalable=no\">\\n  <meta http-equiv=\"X-UA-Compatible\" content=\"IE=9; IE=8; IE=7\" />\\n  \\n  <meta http-equiv=\"Content-Type\" content=\"text/html; charset=utf-8\" />\\n<link rel=\"shortcut icon\" href=\"https://datos.jalisco.gob.mx/sites/default/files/favicon.ico\" type=\"image/vnd.microsoft.icon\" />\\n<link rel=\"shortlink\" href=\"/node/1572\" />\\n<link rel=\"canonical\" href=\"/dataset/incendios-forestales-en-bosque-la-primavera-2019/resource/22a0553d-a518-44a1-a4f8\" />\\n<meta name=\"Generator\" content=\"Drupal 7 (http://drupal.org)\" />\\n  <title>Datos Abiertos - Jalisco</title>\\n  <style>\\n@import url(\"https://datos.jalisco.gob.mx/modules/system/system.base.css?prgnt7\");\\n</style>\\n<style>\\n@import url(\"https://datos.jalisco.gob.mx/profiles/dkan/modules/contrib/jquery_update/replace/ui/themes/base/minified/jquery.ui.core.min.css?prgnt7\");\\n@import url(\"https://datos.jalisco.gob.mx/profiles/dkan/modules/contrib/jquery_update/replace/ui/themes/base/minified/jquery.ui.theme.min.css?prgnt7\");\\n@import url(\"https://datos.jalisco.gob.mx/profiles/dkan/modules/contrib/jquery_update/replace/ui/themes/base/minified/jquery.ui.tabs.min.css?prgnt7\");\\n</style>\\n<style>\\n@import url(\"https://datos.jalisco.gob.mx/profiles/dkan/modules/contrib/date/date_api/date.css?prgnt7\");\\n@import url(\"https://datos.jalisco.gob.mx/profiles/dkan/modules/contrib/date/date_popup/themes/datepicker.1.7.css?prgnt7\");\\n@import url(\"https://datos.jalisco.gob.mx/profiles/dkan/modules/dkan/dkan_data_story/css/dkan_data_story.css?prgnt7\");\\n@import url(\"https://datos.jalisco.gob.mx/modules/field/theme/field.css?prgnt7\");\\n@import url(\"https://datos.jalisco.gob.mx/profiles/dkan/modules/contrib/field_hidden/field_hidden.css?prgnt7\");\\n@import url(\"https://datos.jalisco.gob.mx/modules/node/node.css?prgnt7\");\\n@import url(\"https://datos.jalisco.gob.mx/profiles/dkan/modules/contrib/panopoly_widgets/panopoly-widgets.css?prgnt7\");\\n@import url(\"https://datos.jalisco.gob.mx/profiles/dkan/modules/contrib/panopoly_widgets/panopoly-widgets-spotlight.css?prgnt7\");\\n@import url(\"https://datos.jalisco.gob.mx/profiles/dkan/modules/contrib/radix_layouts/radix_layouts.css?prgnt7\");\\n@import url(\"https://datos.jalisco.gob.mx/profiles/dkan/modules/contrib/views/css/views.css?prgnt7\");\\n@import url(\"https://datos.jalisco.gob.mx/sites/all/modules/ckeditor/css/ckeditor.css?prgnt7\");\\n</style>\\n<style>\\n@import url(\"https://datos.jalisco.gob.mx/sites/all/libraries/bootstrap/css/bootstrap.min.css?prgnt7\");\\n@import url(\"https://datos.jalisco.gob.mx/sites/all/libraries/bootstrap/css/bootstrap-theme.min.css?prgnt7\");\\n@import url(\"https://datos.jalisco.gob.mx/profiles/dkan/modules/contrib/ctools/css/ctools.css?prgnt7\");\\n@import url(\"https://datos.jalisco.gob.mx/profiles/dkan/modules/contrib/panels/css/panels.css?prgnt7\");\\n@import url(\"https://datos.jalisco.gob.mx/profiles/dkan/libraries/recline/css/grid.css?prgnt7\");\\n@import url(\"https://datos.jalisco.gob.mx/profiles/dkan/libraries/recline/css/slickgrid.css?prgnt7\");\\n@import url(\"https://datos.jalisco.gob.mx/profiles/dkan/libraries/recline/css/flot.css?prgnt7\");\\n@import url(\"https://datos.jalisco.gob.mx/profiles/dkan/libraries/recline/css/map.css?prgnt7\");\\n@import url(\"https://datos.jalisco.gob.mx/profiles/dkan/libraries/recline/css/multiview.css?prgnt7\");\\n@import url(\"https://datos.jalisco.gob.mx/profiles/dkan/libraries/recline/css-site/pygments.css?prgnt7\");\\n@import url(\"https://datos.jalisco.gob.mx/profiles/dkan/libraries/slickgrid/slick.grid.css?prgnt7\");\\n@import url(\"https://datos.jalisco.gob.mx/profiles/dkan/libraries/leaflet/dist/leaflet.css?prgnt7\");\\n@import url(\"https://datos.jalisco.gob.mx/profiles/dkan/libraries/leaflet_markercluster/dist/MarkerCluster.css?prgnt7\");\\n@import url(\"https://datos.jalisco.gob.mx/profiles/dkan/libraries/leaflet_markercluster/dist/MarkerCluster.Default.css?prgnt7\");\\n@import url(\"https://datos.jalisco.gob.mx/profiles/dkan/modules/contrib/recline/recline.css?prgnt7\");\\n@import url(\"https://datos.jalisco.gob.mx/profiles/dkan/modules/dkan/dkan_topics/theme/dkan_topics.css?prgnt7\");\\n</style>\\n<style>\\n\\n</style>\\n<style>\\n@import url(\"https://datos.jalisco.gob.mx/sites/all/libraries/fontawesome/css/font-awesome.css?prgnt7\");\\n@import url(\"https://datos.jalisco.gob.mx/sites/default/files/font-icon-select-general-generated-1.css?prgnt7\");\\n@import url(\"https://datos.jalisco.gob.mx/profiles/dkan/modules/dkan/dkan_dataset/css/dkan_dataset.css?prgnt7\");\\n</style>\\n<style>\\n@import url(\"https://datos.jalisco.gob.mx/sites/all/themes/drujal/css/main.css?prgnt7\");\\n</style>\\n<style>\\n@import url(\"https://datos.jalisco.gob.mx/profiles/dkan/modules/contrib/panopoly_images/panopoly-images.css?prgnt7\");\\n</style>\\n  <!-- HTML5 element support for IE6-8 -->\\n  <!--[if lt IE 9]>\\n    <script src=\"//html5shiv.googlecode.com/svn/trunk/html5.js\"></script>\\n  <![endif]-->\\n  <script src=\"https://datos.jalisco.gob.mx/profiles/dkan/modules/contrib/jquery_update/replace/jquery/1.10/jquery.min.js?v=1.10.2\"></script>\\n<script src=\"https://datos.jalisco.gob.mx/misc/jquery.once.js?v=1.2\"></script>\\n<script src=\"https://datos.jalisco.gob.mx/misc/drupal.js?prgnt7\"></script>\\n<script src=\"https://datos.jalisco.gob.mx/profiles/dkan/modules/contrib/jquery_update/replace/ui/ui/minified/jquery.ui.core.min.js?v=1.10.2\"></script>\\n<script src=\"https://datos.jalisco.gob.mx/profiles/dkan/modules/contrib/jquery_update/replace/ui/ui/minified/jquery.ui.widget.min.js?v=1.10.2\"></script>\\n<script src=\"https://datos.jalisco.gob.mx/profiles/dkan/modules/contrib/jquery_update/replace/ui/ui/minified/jquery.ui.mouse.min.js?v=1.10.2\"></script>\\n<script src=\"https://datos.jalisco.gob.mx/profiles/dkan/modules/contrib/jquery_update/replace/ui/ui/minified/jquery.ui.sortable.min.js?v=1.10.2\"></script>\\n<script src=\"https://datos.jalisco.gob.mx/profiles/dkan/modules/contrib/jquery_update/replace/ui/ui/minified/jquery.ui.tabs.min.js?v=1.10.2\"></script>\\n<script src=\"https://datos.jalisco.gob.mx/profiles/dkan/modules/contrib/panopoly_images/panopoly-images.js?prgnt7\"></script>\\n<script src=\"https://datos.jalisco.gob.mx/profiles/dkan/modules/dkan/dkan_plugins/js/colorPicker.behavior.js?prgnt7\"></script>\\n<script src=\"https://datos.jalisco.gob.mx/sites/all/modules/jalisco_cont_descargas/js/jalisco_cont_descargas.js?prgnt7\"></script>\\n<script src=\"https://datos.jalisco.gob.mx/sites/all/modules/jalisco_cont_descargas/js/jalisco_cont_descargas_dkan.js?prgnt7\"></script>\\n<script src=\"https://datos.jalisco.gob.mx/sites/all/modules/jalisco_scrollreveal_effects/js/scrollReveal.min.js?prgnt7\"></script>\\n<script src=\"https://datos.jalisco.gob.mx/profiles/dkan/modules/contrib/recline/js/jsondataview.js?prgnt7\"></script>\\n<script src=\"https://datos.jalisco.gob.mx/profiles/dkan/modules/contrib/recline/js/restdataview.js?prgnt7\"></script>\\n<script src=\"https://datos.jalisco.gob.mx/sites/default/files/languages/es_QGoNAvy03QjH4AgwaDBENM254_BuoJxwBsKogCS3b0Q.js?prgnt7\"></script>\\n<script src=\"https://datos.jalisco.gob.mx/sites/all/libraries/bootstrap/js/bootstrap.min.js?prgnt7\"></script>\\n<script src=\"https://datos.jalisco.gob.mx/profiles/dkan/libraries/jquery.imagesloaded/jquery.imagesloaded.min.js?prgnt7\"></script>\\n<script src=\"https://datos.jalisco.gob.mx/misc/tableheader.js?prgnt7\"></script>\\n<script src=\"https://datos.jalisco.gob.mx/profiles/dkan/libraries/lodash/dist/lodash.compat.min.js?prgnt7\"></script>\\n<script src=\"https://datos.jalisco.gob.mx/profiles/dkan/libraries/backbone/backbone-min.js?prgnt7\"></script>\\n<script src=\"https://datos.jalisco.gob.mx/profiles/dkan/libraries/recline/dist/recline.js?prgnt7\"></script>\\n<script src=\"https://datos.jalisco.gob.mx/profiles/dkan/libraries/csv/csv.js?prgnt7\"></script>\\n<script src=\"https://datos.jalisco.gob.mx/profiles/dkan/libraries/jsxlsx/dist/xlsx.core.min.js?prgnt7\"></script>\\n<script src=\"https://datos.jalisco.gob.mx/profiles/dkan/libraries/xls/dist/recline.backend.xlsx.min.js?prgnt7\"></script>\\n<script src=\"https://datos.jalisco.gob.mx/profiles/dkan/libraries/mustache/mustache.min.js?prgnt7\"></script>\\n<script src=\"https://datos.jalisco.gob.mx/profiles/dkan/libraries/moment/min/moment.min.js?prgnt7\"></script>\\n<script src=\"https://datos.jalisco.gob.mx/profiles/dkan/libraries/slickgrid/lib/jquery.event.drag-2.2.js?prgnt7\"></script>\\n<script src=\"https://datos.jalisco.gob.mx/profiles/dkan/libraries/slickgrid/lib/jquery.event.drop-2.2.js?prgnt7\"></script>\\n<script src=\"https://datos.jalisco.gob.mx/profiles/dkan/libraries/slickgrid/slick.core.js?prgnt7\"></script>\\n<script src=\"https://datos.jalisco.gob.mx/profiles/dkan/libraries/slickgrid/slick.formatters.js?prgnt7\"></script>\\n<script src=\"https://datos.jalisco.gob.mx/profiles/dkan/libraries/slickgrid/slick.editors.js?prgnt7\"></script>\\n<script src=\"https://datos.jalisco.gob.mx/profiles/dkan/libraries/slickgrid/slick.grid.js?prgnt7\"></script>\\n<script src=\"https://datos.jalisco.gob.mx/profiles/dkan/libraries/slickgrid/lib/jquery-ui-1.8.16.custom.min.js?prgnt7\"></script>\\n<script src=\"https://datos.jalisco.gob.mx/profiles/dkan/libraries/slickgrid/plugins/slick.rowselectionmodel.js?prgnt7\"></script>\\n<script src=\"https://datos.jalisco.gob.mx/profiles/dkan/libraries/slickgrid/plugins/slick.rowmovemanager.js?prgnt7\"></script>\\n<script src=\"https://datos.jalisco.gob.mx/profiles/dkan/libraries/leaflet/dist/leaflet.js?prgnt7\"></script>\\n<script src=\"https://datos.jalisco.gob.mx/profiles/dkan/libraries/flot/jquery.flot.js?prgnt7\"></script>\\n<script src=\"https://datos.jalisco.gob.mx/profiles/dkan/libraries/deep_diff/releases/deep-diff-0.3.0.min.js?prgnt7\"></script>\\n<script src=\"https://datos.jalisco.gob.mx/profiles/dkan/libraries/recline_deeplink/dist/recline.deeplink.min.js?prgnt7\"></script>\\n<script src=\"https://datos.jalisco.gob.mx/profiles/dkan/libraries/leaflet_markercluster/dist/leaflet.markercluster.js?prgnt7\"></script>\\n<script src=\"https://datos.jalisco.gob.mx/profiles/dkan/modules/contrib/recline/backend.ckan_get.js?prgnt7\"></script>\\n<script src=\"https://datos.jalisco.gob.mx/profiles/dkan/modules/contrib/recline/recline.js?prgnt7\"></script>\\n<script>L.Icon.Default.imagePath = \"/profiles/dkan/libraries/recline/vendor/leaflet/1.0.2/images/\"</script>\\n<script src=\"https://datos.jalisco.gob.mx/profiles/dkan/modules/dkan/dkan_dataset/js/dkan_tooltip.js?prgnt7\"></script>\\n<script src=\"https://datos.jalisco.gob.mx/sites/all/modules/google_analytics/googleanalytics.js?prgnt7\"></script>\\n<script>(function(i,s,o,g,r,a,m){i[\"GoogleAnalyticsObject\"]=r;i[r]=i[r]||function(){(i[r].q=i[r].q||[]).push(arguments)},i[r].l=1*new Date();a=s.createElement(o),m=s.getElementsByTagName(o)[0];a.async=1;a.src=g;m.parentNode.insertBefore(a,m)})(window,document,\"script\",\"//www.google-analytics.com/analytics.js\",\"ga\");ga(\"create\", \"UA-76871350-1\", {\"cookieDomain\":\"auto\"});ga(\"set\", \"anonymizeIp\", true);ga(\"send\", \"pageview\");</script>\\n<script>var parallaxItems = [\\n];\\n</script>\\n<script src=\"https://datos.jalisco.gob.mx/sites/all/modules/parallax/parallax_admin/parallax_admin.js?prgnt7\"></script>\\n<script src=\"https://datos.jalisco.gob.mx/sites/all/themes/drujal//javascript/bootstrap/bootstrap.min.js?prgnt7\"></script>\\n<script src=\"https://datos.jalisco.gob.mx/sites/all/themes/drujal//javascript/jalisco_configurations.js?prgnt7\"></script>\\n<script src=\"https://datos.jalisco.gob.mx/sites/all/themes/drujal//javascript/jalisco_scrollheader.js?prgnt7\"></script>\\n<script>jQuery.extend(Drupal.settings, {\"basePath\":\"\\\\/\",\"pathPrefix\":\"\",\"ajaxPageState\":{\"theme\":\"drujal\",\"theme_token\":\"narLaCtPTjhTJpGvkwq8nR-_FvKU7auRGpdfNBoSgX4\",\"js\":{\"profiles\\\\/dkan\\\\/modules\\\\/contrib\\\\/panopoly_widgets\\\\/panopoly-widgets.js\":1,\"profiles\\\\/dkan\\\\/modules\\\\/contrib\\\\/panopoly_widgets\\\\/panopoly-widgets-spotlight.js\":1,\"sites\\\\/all\\\\/themes\\\\/bootstrap\\\\/js\\\\/bootstrap.js\":1,\"profiles\\\\/dkan\\\\/modules\\\\/contrib\\\\/jquery_update\\\\/replace\\\\/jquery\\\\/1.10\\\\/jquery.min.js\":1,\"misc\\\\/jquery.once.js\":1,\"misc\\\\/drupal.js\":1,\"profiles\\\\/dkan\\\\/modules\\\\/contrib\\\\/jquery_update\\\\/replace\\\\/ui\\\\/ui\\\\/minified\\\\/jquery.ui.core.min.js\":1,\"profiles\\\\/dkan\\\\/modules\\\\/contrib\\\\/jquery_update\\\\/replace\\\\/ui\\\\/ui\\\\/minified\\\\/jquery.ui.widget.min.js\":1,\"profiles\\\\/dkan\\\\/modules\\\\/contrib\\\\/jquery_update\\\\/replace\\\\/ui\\\\/ui\\\\/minified\\\\/jquery.ui.mouse.min.js\":1,\"profiles\\\\/dkan\\\\/modules\\\\/contrib\\\\/jquery_update\\\\/replace\\\\/ui\\\\/ui\\\\/minified\\\\/jquery.ui.sortable.min.js\":1,\"profiles\\\\/dkan\\\\/modules\\\\/contrib\\\\/jquery_update\\\\/replace\\\\/ui\\\\/ui\\\\/minified\\\\/jquery.ui.tabs.min.js\":1,\"profiles\\\\/dkan\\\\/modules\\\\/contrib\\\\/panopoly_images\\\\/panopoly-images.js\":1,\"profiles\\\\/dkan\\\\/modules\\\\/dkan\\\\/dkan_plugins\\\\/js\\\\/colorPicker.behavior.js\":1,\"sites\\\\/all\\\\/modules\\\\/jalisco_cont_descargas\\\\/js\\\\/jalisco_cont_descargas.js\":1,\"sites\\\\/all\\\\/modules\\\\/jalisco_cont_descargas\\\\/js\\\\/jalisco_cont_descargas_dkan.js\":1,\"sites\\\\/all\\\\/modules\\\\/jalisco_scrollreveal_effects\\\\/js\\\\/scrollReveal.min.js\":1,\"profiles\\\\/dkan\\\\/modules\\\\/contrib\\\\/recline\\\\/js\\\\/jsondataview.js\":1,\"profiles\\\\/dkan\\\\/modules\\\\/contrib\\\\/recline\\\\/js\\\\/restdataview.js\":1,\"public:\\\\/\\\\/languages\\\\/es_QGoNAvy03QjH4AgwaDBENM254_BuoJxwBsKogCS3b0Q.js\":1,\"sites\\\\/all\\\\/libraries\\\\/bootstrap\\\\/js\\\\/bootstrap.min.js\":1,\"profiles\\\\/dkan\\\\/libraries\\\\/jquery.imagesloaded\\\\/jquery.imagesloaded.min.js\":1,\"misc\\\\/tableheader.js\":1,\"profiles\\\\/dkan\\\\/libraries\\\\/lodash\\\\/dist\\\\/lodash.compat.min.js\":1,\"profiles\\\\/dkan\\\\/libraries\\\\/backbone\\\\/backbone-min.js\":1,\"profiles\\\\/dkan\\\\/libraries\\\\/recline\\\\/dist\\\\/recline.js\":1,\"profiles\\\\/dkan\\\\/libraries\\\\/csv\\\\/csv.js\":1,\"profiles\\\\/dkan\\\\/libraries\\\\/jsxlsx\\\\/dist\\\\/xlsx.core.min.js\":1,\"profiles\\\\/dkan\\\\/libraries\\\\/xls\\\\/dist\\\\/recline.backend.xlsx.min.js\":1,\"profiles\\\\/dkan\\\\/libraries\\\\/mustache\\\\/mustache.min.js\":1,\"profiles\\\\/dkan\\\\/libraries\\\\/moment\\\\/min\\\\/moment.min.js\":1,\"profiles\\\\/dkan\\\\/libraries\\\\/slickgrid\\\\/lib\\\\/jquery.event.drag-2.2.js\":1,\"profiles\\\\/dkan\\\\/libraries\\\\/slickgrid\\\\/lib\\\\/jquery.event.drop-2.2.js\":1,\"profiles\\\\/dkan\\\\/libraries\\\\/slickgrid\\\\/slick.core.js\":1,\"profiles\\\\/dkan\\\\/libraries\\\\/slickgrid\\\\/slick.formatters.js\":1,\"profiles\\\\/dkan\\\\/libraries\\\\/slickgrid\\\\/slick.editors.js\":1,\"profiles\\\\/dkan\\\\/libraries\\\\/slickgrid\\\\/slick.grid.js\":1,\"profiles\\\\/dkan\\\\/libraries\\\\/slickgrid\\\\/lib\\\\/jquery-ui-1.8.16.custom.min.js\":1,\"profiles\\\\/dkan\\\\/libraries\\\\/slickgrid\\\\/plugins\\\\/slick.rowselectionmodel.js\":1,\"profiles\\\\/dkan\\\\/libraries\\\\/slickgrid\\\\/plugins\\\\/slick.rowmovemanager.js\":1,\"profiles\\\\/dkan\\\\/libraries\\\\/leaflet\\\\/dist\\\\/leaflet.js\":1,\"profiles\\\\/dkan\\\\/libraries\\\\/flot\\\\/jquery.flot.js\":1,\"profiles\\\\/dkan\\\\/libraries\\\\/deep_diff\\\\/releases\\\\/deep-diff-0.3.0.min.js\":1,\"profiles\\\\/dkan\\\\/libraries\\\\/recline_deeplink\\\\/dist\\\\/recline.deeplink.min.js\":1,\"profiles\\\\/dkan\\\\/libraries\\\\/leaflet_markercluster\\\\/dist\\\\/leaflet.markercluster.js\":1,\"profiles\\\\/dkan\\\\/modules\\\\/contrib\\\\/recline\\\\/backend.ckan_get.js\":1,\"profiles\\\\/dkan\\\\/modules\\\\/contrib\\\\/recline\\\\/recline.js\":1,\"0\":1,\"profiles\\\\/dkan\\\\/modules\\\\/dkan\\\\/dkan_dataset\\\\/js\\\\/dkan_tooltip.js\":1,\"sites\\\\/all\\\\/modules\\\\/google_analytics\\\\/googleanalytics.js\":1,\"1\":1,\"2\":1,\"sites\\\\/all\\\\/modules\\\\/parallax\\\\/parallax_admin\\\\/parallax_admin.js\":1,\"sites\\\\/all\\\\/themes\\\\/drujal\\\\/\\\\/javascript\\\\/bootstrap\\\\/bootstrap.min.js\":1,\"sites\\\\/all\\\\/themes\\\\/drujal\\\\/\\\\/javascript\\\\/jalisco_configurations.js\":1,\"sites\\\\/all\\\\/themes\\\\/drujal\\\\/\\\\/javascript\\\\/jalisco_scrollheader.js\":1},\"css\":{\"modules\\\\/system\\\\/system.base.css\":1,\"misc\\\\/ui\\\\/jquery.ui.core.css\":1,\"misc\\\\/ui\\\\/jquery.ui.theme.css\":1,\"misc\\\\/ui\\\\/jquery.ui.tabs.css\":1,\"profiles\\\\/dkan\\\\/modules\\\\/contrib\\\\/date\\\\/date_api\\\\/date.css\":1,\"profiles\\\\/dkan\\\\/modules\\\\/contrib\\\\/date\\\\/date_popup\\\\/themes\\\\/datepicker.1.7.css\":1,\"profiles\\\\/dkan\\\\/modules\\\\/dkan\\\\/dkan_data_story\\\\/css\\\\/dkan_data_story.css\":1,\"modules\\\\/field\\\\/theme\\\\/field.css\":1,\"profiles\\\\/dkan\\\\/modules\\\\/contrib\\\\/field_hidden\\\\/field_hidden.css\":1,\"modules\\\\/node\\\\/node.css\":1,\"profiles\\\\/dkan\\\\/modules\\\\/contrib\\\\/panopoly_widgets\\\\/panopoly-widgets.css\":1,\"profiles\\\\/dkan\\\\/modules\\\\/contrib\\\\/panopoly_widgets\\\\/panopoly-widgets-spotlight.css\":1,\"profiles\\\\/dkan\\\\/modules\\\\/contrib\\\\/radix_layouts\\\\/radix_layouts.css\":1,\"profiles\\\\/dkan\\\\/modules\\\\/contrib\\\\/views\\\\/css\\\\/views.css\":1,\"sites\\\\/all\\\\/modules\\\\/ckeditor\\\\/css\\\\/ckeditor.css\":1,\"sites\\\\/all\\\\/libraries\\\\/bootstrap\\\\/css\\\\/bootstrap.min.css\":1,\"sites\\\\/all\\\\/libraries\\\\/bootstrap\\\\/css\\\\/bootstrap-theme.min.css\":1,\"profiles\\\\/dkan\\\\/modules\\\\/contrib\\\\/ctools\\\\/css\\\\/ctools.css\":1,\"profiles\\\\/dkan\\\\/modules\\\\/contrib\\\\/panels\\\\/css\\\\/panels.css\":1,\"profiles\\\\/dkan\\\\/libraries\\\\/recline\\\\/css\\\\/grid.css\":1,\"profiles\\\\/dkan\\\\/libraries\\\\/recline\\\\/css\\\\/slickgrid.css\":1,\"profiles\\\\/dkan\\\\/libraries\\\\/recline\\\\/css\\\\/flot.css\":1,\"profiles\\\\/dkan\\\\/libraries\\\\/recline\\\\/css\\\\/map.css\":1,\"profiles\\\\/dkan\\\\/libraries\\\\/recline\\\\/css\\\\/multiview.css\":1,\"profiles\\\\/dkan\\\\/libraries\\\\/recline\\\\/css-site\\\\/pygments.css\":1,\"profiles\\\\/dkan\\\\/libraries\\\\/slickgrid\\\\/slick.grid.css\":1,\"profiles\\\\/dkan\\\\/libraries\\\\/leaflet\\\\/dist\\\\/leaflet.css\":1,\"profiles\\\\/dkan\\\\/libraries\\\\/leaflet_markercluster\\\\/dist\\\\/MarkerCluster.css\":1,\"profiles\\\\/dkan\\\\/libraries\\\\/leaflet_markercluster\\\\/dist\\\\/MarkerCluster.Default.css\":1,\"profiles\\\\/dkan\\\\/modules\\\\/contrib\\\\/recline\\\\/recline.css\":1,\"profiles\\\\/dkan\\\\/modules\\\\/dkan\\\\/dkan_topics\\\\/theme\\\\/dkan_topics.css\":1,\"0\":1,\"1\":1,\"sites\\\\/all\\\\/libraries\\\\/fontawesome\\\\/css\\\\/font-awesome.css\":1,\"public:\\\\/\\\\/font-icon-select-general-generated-1.css\":1,\"profiles\\\\/dkan\\\\/modules\\\\/dkan\\\\/dkan_dataset\\\\/css\\\\/dkan_dataset.css\":1,\"sites\\\\/all\\\\/themes\\\\/drujal\\\\/css\\\\/main.css\":1,\"profiles\\\\/dkan\\\\/modules\\\\/contrib\\\\/panopoly_images\\\\/panopoly-images.css\":1}},\"recline\":{\"file\":\"https:\\\\/\\\\/datos.jalisco.gob.mx\\\\/sites\\\\/default\\\\/files\\\\/incendios_forestales_opd_blp-ene-abril-2019.csv\",\"fileType\":\"text\\\\/csv\",\"fileSize\":15597,\"delimiter\":\",\",\"grid\":1,\"graph\":0,\"map\":0,\"embed\":0,\"uuid\":\"22a0553d-a518-44a1-a4f8-964b5c673f0c\",\"datastoreStatus\":false,\"maxSizePreview\":3000000},\"googleanalytics\":{\"trackOutbound\":1,\"trackMailto\":1,\"trackDownload\":1,\"trackDownloadExtensions\":\"7z|aac|arc|arj|asf|asx|avi|bin|csv|doc(x|m)?|dot(x|m)?|exe|flv|gif|gz|gzip|hqx|jar|jpe?g|js|mp(2|3|4|e?g)|mov(ie)?|msi|msp|pdf|phps|png|ppt(x|m)?|pot(x|m)?|pps(x|m)?|ppam|sld(x|m)?|thmx|qtm?|ra(m|r)?|sea|sit|tar|tgz|torrent|txt|wav|wma|wmv|wpd|xls(x|m|b)?|xlt(x|m)|xlam|xml|z|zip\"},\"ogContext\":{\"groupType\":\"node\",\"gid\":\"1117\"},\"bootstrap\":{\"anchorsFix\":\"0\",\"anchorsSmoothScrolling\":\"0\",\"formHasError\":1,\"popoverEnabled\":1,\"popoverOptions\":{\"animation\":1,\"html\":0,\"placement\":\"right\",\"selector\":\"\",\"trigger\":\"click\",\"triggerAutoclose\":1,\"title\":\"\",\"content\":\"\",\"delay\":0,\"container\":\"body\"},\"tooltipEnabled\":1,\"tooltipOptions\":{\"animation\":1,\"html\":0,\"placement\":\"auto left\",\"selector\":\"\",\"trigger\":\"hover focus\",\"delay\":0,\"container\":\"body\"}}});</script>\\n</head>\\n<body class=\"html not-front not-logged-in one-sidebar sidebar-second page-node page-node- page-node-1572 node-type-resource og-context og-context-node og-context-node-1117\">\\n  <div class=\"skip-link\" id=\"skip-link\">\\n    <a href=\"#main-content\" class=\"element-invisible element-focusable\">Pasar al contenido principal</a>\\n  </div>\\n    \\n<div class=\"jalisco-menu\" id=\"jalisco_menu_red\">\\n<!DOCTYPE html>\\n<html lang=\"en\">\\n  <head>\\n    <style type=\"text/css\">\\n      @import url(\\'https://fonts.googleapis.com/css?family=Open+Sans:300\\');\\n      .jalisco-menu {\\n        background-color: #fff;\\n        border-bottom: 1px solid #ddd;\\n        height: 40px;\\n        position: fixed;\\n        width: 100%;\\n        z-index: 10;\\n      }\\n\\n      .jalisco-menu-container {\\n        align-items: center;\\n        display: flex;\\n        justify-content: space-between;\\n        height: 40px;\\n      }\\n\\n      .jalisco-menu-container-logo-link {\\n        position: relative;\\n        top: -5em;\\n        width: 2.5em;\\n      }\\n\\n      .jalisco-menu-container-logo-link--show {\\n        top: 0;\\n      }\\n\\n      .jalisco-menu-container__logo {\\n        padding: .1em;\\n        position: relative;\\n        transition: all .3s;\\n        width: 2.5em;\\n      }\\n\\n      .jalisco-menu-container__references {\\n        left: -2.25em;\\n        position: relative;\\n        transition: all .3s;\\n        width: 65%;\\n      }\\n\\n      .jalisco-menu-container__references--show {\\n        left: 0;\\n      }\\n\\n      .jalisco-menu-container__link {\\n        background-color: #fff;\\n        border: 0;\\n        border-bottom: 1px solid #ddd;\\n        box-shadow: none;\\n        color: #6e7074;\\n        font-family: \"Open Sans\", sans-serif;\\n        font-size: 1em;\\n        font-weight: 300;\\n        line-height: 1.4em;\\n        padding: .5em 1em;\\n        text-decoration: none;\\n        transition: all .3s;\\n      }\\n\\n      .jalisco-menu-container__link:focus,\\n      .jalisco-menu-container__link:hover {\\n        background-color: #dcdcdd;\\n        border: 0;\\n        border-bottom: 1px solid #ddd;\\n        color: #1B1D20;\\n        text-decoration: none;\\n        transition: all .3s;\\n      }\\n\\n      .jalisco-menu-submenu {\\n        border-radius: 0;\\n        box-shadow: none;\\n        left: 230px;\\n        margin: 0;\\n        padding: 0;\\n        top: 38px;\\n      }\\n\\n      .jalisco-menu-submenu__list .jalisco-menu-submenu__link {\\n        font-family: \\'Open Sans\\', sans-serif;\\n        font-size: 12px;\\n        line-height: 1.4;\\n      }\\n\\n      .jalisco-menu-submenu__list {\\n        box-shadow: 0 1px #ddd;\\n      }\\n\\n      .jalisco-menu-container__shield {\\n        padding-right: 1em;\\n        width: 15%;\\n      }\\n\\n      .jalisco-menu-container__form {\\n        display: flex;\\n        width: 22.5%;\\n      }\\n\\n      .jalisco-menu-container__form-input {\\n        background-color: #f2f2f2;\\n        background-image: none;\\n        border: 0;\\n        border-radius: 0;\\n        color: #414042;\\n        display: block;\\n        font-size: 1em;\\n        font-family: sans-serif;\\n        height: 38px;\\n        padding: .5em 1em;\\n        width: 100%;\\n      }\\n\\n      .jalisco-menu-container__form-search {\\n        background-color: #f2f2f2;\\n        border: 1px solid #f2f2f2;\\n        border-radius: 0;\\n        color: #1B1D20;\\n        display: flex;\\n        height: 38px;\\n      }\\n      \\n      /* Ancho de tel\\xc3\\xa9fonos */\\n\\t\\t\\t/* 300px - 768px */\\n      @media (min-width: 300px) and (max-width: 768px) {\\n        .jalisco-menu { display: none; }\\n\\t\\t\\t}\\n\\n      @media (min-width: 768px) and (max-width: 991px) {\\n        .jalisco-menu-container__form {\\n          width: 34.5%;\\n        }\\n\\n        .jalisco-menu-container__form-input {\\n          font-size: .8em;\\n        }\\n      }\\n      \\n      @media (min-width: 992px) and (max-width: 1199px) {\\n        .jalisco-menu-container__form {\\n          width: 29.5%;\\n        }\\n      }\\n\\n    </style>\\n  </head>\\n  <body>\\n  <div class=\"fluid-container jalisco-menu\">\\n    <div class=\"container jalisco-menu-container\">\\n      <a class=\"jalisco-menu-container-logo-link\" href=\"/\" id=\"jalisco-menu-container-logo-link\">\\n        <img alt=\"Ir a la p\\xc3\\xa1gina de inicio\" class=\"jalisco-menu-container__logo\" data-toggle=\"tooltip\" data-placement=\"bottom\" src=\"//jalisco.gob.mx/menu_jalisco_v2/img/shield_jalisco_red.svg\" title=\"Ir a Inicio\" />\\n      </a>\\n      <div class=\"jalisco-menu-container__references\" id=\"jalisco-menu-container__references\">\\n        <a class=\"jalisco-menu-container__link\" href=\"https://www.jalisco.gob.mx/accesibilidad\">Accesibilidad</a>\\n        <a class=\"jalisco-menu-container__link\" href=\"/contacto\">Contacto</a>\\n        <button class=\"jalisco-menu-container__link not-btn\" type=\"button\" id=\"dropdownMenu1\" data-toggle=\"dropdown\" aria-haspopup=\"true\" aria-expanded=\"true\" aria-label=\"Mostrar dependencias del Gobierno del Estado\"> Dependencias \\n          <div class=\"sr-only\">Men\\xc3\\xba desplegable</div>\\n          <span class=\"caret\"></span>\\n        </button>\\n        <ul class=\"dropdown-menu jalisco-menu-submenu\" aria-labelledby=\"dropdownMenu1\">\\n          <li class=\"jalisco-menu-submenu__list\"><a class=\"jalisco-menu-submenu__link\" aria-expanded=\"true\" href=\"//www.jalisco.gob.mx/es/gobierno/dependencias/despacho-del-gobernador\">Despacho del Gobernador</a></li>\\n          <li class=\"jalisco-menu-submenu__list\"><a class=\"jalisco-menu-submenu__link\" href=\"//www.jalisco.gob.mx/gobierno/dependencias/jefatura-de-gabinete\">Jefatura de Gabinete</a></li>\\n          <li class=\"jalisco-menu-submenu__list\"><a class=\"jalisco-menu-submenu__link\" href=\"//sgg.jalisco.gob.mx/\">SGG - Secretar\\xc3\\xada General de Gobierno</a></li>\\n          <li class=\"jalisco-menu-submenu__list\"><a class=\"jalisco-menu-submenu__link\" href=\"//fge.jalisco.gob.mx/\">FGE - Fiscal\\xc3\\xada General del Estado</a></li>\\n          <li class=\"jalisco-menu-submenu__list\"><a class=\"jalisco-menu-submenu__link\" href=\"//ce.jalisco.gob.mx/\" aria-label=\"C E - Contralor\\xc3\\xada del Estado\">CE - Contralor\\xc3\\xada del Estado</a></li>\\n          <li class=\"jalisco-menu-submenu__list\"><a class=\"jalisco-menu-submenu__link\" href=\"//prosoc.jalisco.gob.mx/\">PROSOC - Procuradur\\xc3\\xada Social del Estado</a></li>\\n          <li class=\"jalisco-menu-submenu__list\"><a class=\"jalisco-menu-submenu__link\" href=\"//sc.jalisco.gob.mx/\">SC - Secretar\\xc3\\xada de Cultura</a></li>\\n          <li class=\"jalisco-menu-submenu__list\"><a class=\"jalisco-menu-submenu__link\" href=\"//sedeco.jalisco.gob.mx/\">SEDECO - Secretar\\xc3\\xada de Desarrollo Econ\\xc3\\xb3mico</a></li>\\n          <li class=\"jalisco-menu-submenu__list\"><a class=\"jalisco-menu-submenu__link\" href=\"//sedis.jalisco.gob.mx/\">SEDIS - Secretar\\xc3\\xada de Desarrollo e Integraci\\xc3\\xb3n Social</a></li>\\n          <li class=\"jalisco-menu-submenu__list\"><a class=\"jalisco-menu-submenu__link\" href=\"//seder.jalisco.gob.mx/\">SEDER - Secretar\\xc3\\xada de Desarrollo Rural</a></li>\\n          <li class=\"jalisco-menu-submenu__list\"><a class=\"jalisco-menu-submenu__link\" href=\"//se.jalisco.gob.mx/\" aria-label=\"S E - Secretar\\xc3\\xada de Educaci\\xc3\\xb3n\">SE - Secretar\\xc3\\xada de Educaci\\xc3\\xb3n</a></li>\\n          <li class=\"jalisco-menu-submenu__list\"><a class=\"jalisco-menu-submenu__link\" href=\"//siop.jalisco.gob.mx/\">SIOP - Secretar\\xc3\\xada de Infraestructura y Obra P\\xc3\\xbabica</a></li>\\n          <li class=\"jalisco-menu-submenu__list\"><a class=\"jalisco-menu-submenu__link\" href=\"//sicyt.jalisco.gob.mx/\">SICYT - Secretar\\xc3\\xada de Innovaci\\xc3\\xb3n, Ciencia y Tecnolog\\xc3\\xada</a></li>\\n          <li class=\"jalisco-menu-submenu__list\"><a class=\"jalisco-menu-submenu__link\" href=\"//semadet.jalisco.gob.mx/\">SEMADET - Secretar\\xc3\\xada de Medio Ambiente y Desarrollo Territorial</a></li>\\n          <li class=\"jalisco-menu-submenu__list\"><a class=\"jalisco-menu-submenu__link\" href=\"//semov.jalisco.gob.mx/\">SEMOV - Secretar\\xc3\\xada de Movilidad</a></li>\\n          <li class=\"jalisco-menu-submenu__list\"><a class=\"jalisco-menu-submenu__link\" href=\"//sepaf.jalisco.gob.mx/\">SEPAF - Secretar\\xc3\\xada de Planeaci\\xc3\\xb3n, Administraci\\xc3\\xb3n y Finanzas</a></li>\\n          <li class=\"jalisco-menu-submenu__list\"><a class=\"jalisco-menu-submenu__link\" href=\"//ssj.jalisco.gob.mx/\">SSJ - Secretar\\xc3\\xada de Salud</a></li>\\n          <li class=\"jalisco-menu-submenu__list\"><a class=\"jalisco-menu-submenu__link\" href=\"//stps.jalisco.gob.mx/\">STPS - Secretar\\xc3\\xada de Trabajo y Previsi\\xc3\\xb3n Social</a></li>\\n          <li class=\"jalisco-menu-submenu__list\"><a class=\"jalisco-menu-submenu__link\" href=\"//secturjal.jalisco.gob.mx/\">SECTUR - Secretar\\xc3\\xada de Turismo</a></li>\\n        </ul>\\n      </div>\\n      <img alt=\"Marca del Gobierno del Estado\" class=\"jalisco-menu-container__shield\" data-toggle=\"tooltip\" data-placement=\"bottom\" title=\"\" data-original-title=\"Ir a Jalisco.gob.mx\" src=\"//jalisco.gob.mx/menu_jalisco_v2/img/brand_jalisco_color.svg\" alt=\"\" />\\n      <form action=\"//info.jalisco.gob.mx/bsearch\" class=\"jalisco-menu-container__form\">\\n        <label class=\"sr-only\" for=\"b\">\\xc2\\xbfQu\\xc3\\xa9 est\\xc3\\xa1s buscando?</label>\\n        <input class=\"form-control jalisco-menu-container__form-input\" name=\"b\" id=\"b\" type=\"text\" placeholder=\"\\xc2\\xbfQu\\xc3\\xa9 est\\xc3\\xa1s buscando?\" />\\n        <input name=\"site\" id=\"site\" type=\"hidden\" value=\"10.13.1.50:7000\" />\\n        <label class=\"sr-only btn_sr\" for=\"d\">Buscador Jalisco</label>\\n        <button class=\"btn jalisco-menu-container__form-search\" aria-label=\"Realizar b\\xc3\\xbasqueda\" tabindexd=\"0\" href=\"#jsearch-bar\" id=\"jalisco_search\"><span class=\"fa fa-search\" aria-hidden=\"true\" style=\"display: initial;\"></span></button>\\n      </form>\\n    </div> <!--jalisco-menu-container -->\\n  </div> <!--jalisco-menu -->\\n  </body>\\n</html></div>\\n\\n\\n<header id=\"navbar\" role=\"banner\" class=\"navbar-main jalisco-navbar js-navbar\">\\n  <div class=\"jalisco-navbar-internal\">\\n    <div class=\"navbar-header\" role=\"navigation\">\\n      \\n      <a href=\"/\">\\n        <img class=\"jalisco-brand\" src=\"https://datos.jalisco.gob.mx/menu_jalisco_v2/img/brand_jalisco_color.svg\" alt=\"Marca del Gobierno del Estado de Jalisco\">\\n      </a>\\n\\n              <button type=\"button\" class=\"navbar-toggle\" data-toggle=\"show-collapse\" data-target=\"#navbar-collapse\">\\n          <span class=\"sr-only\">Toggle navigation</span>\\n          <span class=\"icon-bar\"></span>\\n          <span class=\"icon-bar\"></span>\\n          <span class=\"icon-bar\"></span>\\n        </button>\\n          </div>\\n\\n          <div class=\"navbar-collapse collapse in\" id=\"navbar-collapse\">\\n        <nav class=\"navbar-main\" role=\"navigation\">\\n          \\n                      <ul class=\"menu nav navbar-nav\"><li class=\"first leaf\"><a href=\"/\" title=\"\">Inicio</a></li>\\n<li class=\"leaf\"><a href=\"/dataset\" title=\"\">Conjuntos de datos</a></li>\\n<li class=\"leaf\"><a href=\"/instituciones\" title=\"\">Instituciones</a></li>\\n<li class=\"leaf\"><a href=\"/temas\" title=\"\">Temas</a></li>\\n<li class=\"leaf\"><a href=\"/noticias/\" title=\"\">Noticias</a></li>\\n<li class=\"last leaf\"><a href=\"/topics\">Temas</a></li>\\n</ul>                    \\n          \\n        </nav>\\n      </div>\\n      </div>\\n</header>\\n\\n<div class=\"container nav-bread\" role=\"complementary\">\\n\\t<ol class=\"breadcrumb\"><li><a href=\"/dataset\">Datasets</a></li>\\n<li><a href=\"https://datos.jalisco.gob.mx/dataset/incendios-forestales-en-bosque-la-primavera-2019\">Incendios forestales en Bosque La Primavera enero - abril de 2019</a></li>\\n<li>Incendios forestales en Bosque La Primavera enero - abril 2019</li>\\n</ol>              <h2 class=\"element-invisible\">Solapas principales</h2><ul class=\"tabs--primary nav nav-tabs\"><li class=\"active\"><a href=\"/dataset/incendios-forestales-en-bosque-la-primavera-2019/resource/22a0553d-a518-44a1-a4f8\" class=\"active\">Ver<span class=\"element-invisible\">(solapa activa)</span></a></li>\\n<li><a href=\"/node/1572/dataset\">Regresar a conjunto de datos</a></li>\\n<li><a href=\"/node/1572/download\">Descargar</a></li>\\n</ul>  </div>\\n\\n\\n\\n<div class=\"container-fluid\">\\n  <div class=\"main-container container\">\\n    <header role=\"banner\" id=\"page-header\">\\n      \\n          </header>\\n\\n    <div class=\"row\">\\n\\n      \\n      <section class=\"col-sm-9\">\\n                <a id=\"main-content\"></a>\\n                          <div class=\"region region-content\">\\n    <section id=\"block-system-main\" class=\"block block-system clearfix\">\\n\\n      \\n  \\n<div class=\"panel-display sutro clearfix radix-sutro\" >\\n\\n  <div class=\"container-fluid\">\\n    <div class=\"row\">\\n      <div class=\"col-md-12 radix-layouts-header panel-panel\">\\n        <div class=\"panel-panel-inner\">\\n          <div class=\"panel-pane pane-node-content\"  >\\n  \\n        <h2 class=\"pane-title\">\\n      Incendios forestales en Bosque La Primavera enero - abril 2019    </h2>\\n    \\n  \\n  <div class=\"pane-content\">\\n    <article id=\"node-1572\" class=\"node node-resource clearfix\" about=\"/dataset/incendios-forestales-en-bosque-la-primavera-2019/resource/22a0553d-a518-44a1-a4f8\" typeof=\"sioc:Item foaf:Document\">\\n    <header>\\n            <span property=\"dc:title\" content=\"\" class=\"rdf-meta element-hidden\"></span>      </header>\\n    <div class=\"field field-name-body field-type-text-with-summary field-label-hidden\"><div class=\"field-items\"><div class=\"field-item even\" property=\"content:encoded\"><p>Incendios forestales ocurridos de enero a abril de 2019 bajo la jurisdicci\\xc3\\xb3n del Organismo P\\xc3\\xbabilico Descentralizado Bosque La Primavera en el Estado de Jalisco.</p>\\n</div></div></div><div class=\"field field-name-field-upload field-type-recline-field field-label-hidden\"><div class=\"field-items\"><div class=\"field-item even\"><div class=\"download\"><a href=\"https://datos.jalisco.gob.mx/sites/default/files/incendios_forestales_opd_blp-ene-abril-2019.csv\" type=\"text/csv; length=15597\" data-format=\"csv\" class=\"format-label\" title=\"incendios_forestales_opd_blp-ene-abril-2019.csv\">incendios_forestales_opd_blp-ene-abril-2019.csv</a></div><div class=\"data-explorer-help\"><i class=\"fa fa-info-circle\" aria-hidden=\"true\"></i> <strong>Data Preview:</strong> Note that by default the preview only displays up to 100 records. Use the pager to flip through more records or adjust the start and end fields to display the number of records you wish to see.</div><span class=\"data-explorer\"></span></div></div></div>    </article>\\n  </div>\\n\\n  \\n  </div>\\n        </div>\\n      </div>\\n    </div>\\n    \\n    <div class=\"row\">\\n      <div class=\"col-md-6 radix-layouts-column1 panel-panel\">\\n        <div class=\"panel-panel-inner\">\\n          <div class=\"panel-pane pane-block pane-dkan-dataset-dkan-dataset-resource-nodes pane-dkan-dataset\"  >\\n  \\n        <h2 class=\"pane-title\">\\n      Recursos    </h2>\\n    \\n  \\n  <div class=\"pane-content\">\\n    <ul class=\"list-group\"><li><a href=\"/dataset/incendios-forestales-en-bosque-la-primavera-2019/resource/22a0553d-a518-44a1-a4f8\" class=\"list-group-item active\"><span>Incendios forestales en Bosque La Primavera enero - abril 2019</span></a></li>\\n</ul>  </div>\\n\\n  \\n  </div>\\n        </div>\\n      </div>\\n      <div class=\"col-md-6 radix-layouts-column2 panel-panel\">\\n        <div class=\"panel-panel-inner\">\\n          <div class=\"panel-pane pane-block pane-dkan-sitewide-dkan-sitewide-resource-add pane-dkan-sitewide\"  >\\n  \\n        <h2 class=\"pane-title\">\\n      Informaci\\xc3\\xb3n adicional    </h2>\\n    \\n  \\n  <div class=\"pane-content\">\\n    <div class=\"table-responsive\">\\n<table class=\"table table-hover table-striped sticky-enabled\">\\n <thead><tr><th>Campo</th><th>Valor</th> </tr></thead>\\n<tbody>\\n <tr><td>mimetype</td><td>text/csv</td> </tr>\\n <tr><td>filesize</td><td>15.23 KB</td> </tr>\\n <tr><td>resource type</td><td>file upload</td> </tr>\\n <tr><td>timestamp</td><td>Jun 18, 2019</td> </tr>\\n</tbody>\\n</table>\\n</div>\\n  </div>\\n\\n  \\n  </div>\\n        </div>\\n      </div>\\n    </div>\\n    \\n    <div class=\"row\">\\n      <div class=\"col-md-12 radix-layouts-footer panel-panel\">\\n        <div class=\"panel-panel-inner\">\\n                  </div>\\n      </div>\\n    </div>\\n  </div>\\n \\n</div><!-- /.sutro -->\\n\\n</section>\\n  </div>\\n      </section>\\n\\n              <aside class=\"col-sm-3\" role=\"complementary\">\\n            <div class=\"region region-sidebar-second\">\\n    <section id=\"block-jalisco-cont-descargas-block-jalisco-cont-descargas\" class=\"block block-jalisco-cont-descargas clearfix\">\\n\\n        <h2 class=\"block-title\">Total de descargas</h2>\\n    \\n  \\n\\t<div id=\"jalisco_cont_descargas_bloque_contador_contenedor\">\\n\\t\\t<p>Estad\\xc3\\xadsticas de descarga de archivo(s)</p>\\n\\t\\t<div class=\"lista_contadores\">\\n\\t\\t\\t\\n\\t\\t</div>\\n\\t</div>\\n</section>\\n  </div>\\n        </aside>  <!-- /#sidebar-second -->\\n      \\n    </div>\\n  </div>\\n</div>\\n\\n\\n\\n\\n\\n\\n  <footer class=\"footer jalisco-footer\" role=\"contentinfo\">\\n    <div class=\"jalisco-footer-internal\" id=\"jalisco_footer-internal\">\\n        <div class=\"region region-footer\">\\n    <section id=\"block-block-4\" class=\"block block-block col-md-8 jalisco-footer__block clearfix\">\\n\\n      \\n  <span class=\"small col-md-6\"> <img alt=\"Logo de Datos Abiertos\" src=\"/sites/default/files/jalisco_imagenes/datosabiertos_2.svg\" title=\"\" class=\"jalisco-logo-portada\"/></span>\\n<span class=\"col-md-6 pull-right align-top\">\\n<p>Otros Enlaces </p>\\n<a class=\"leaf\" href=\"https://datos.jalisco.gob.mx/normatividad\">Normatividad</a><br>\\n<a class=\"leaf\" href=\"https://datos.jalisco.gob.mx/api\">API</a>\\n</span>\\n\\n</section>\\n<section id=\"block-menu-menu-enlaces\" class=\"block block-menu col-md-4 jalisco-footer__block m-menu-footer m-menu-footer--small clearfix\">\\n\\n        <h2 class=\"block-title\">Enlaces</h2>\\n    \\n  <ul class=\"menu nav\"><li class=\"first leaf\"><a href=\"/politicas-de-uso-y-privacidad\" title=\"\">Pol\\xc3\\xadtica de privacidad</a></li>\\n<li class=\"leaf\"><a href=\"/acerca-de\" title=\"\">Acerca de este portal</a></li>\\n<li class=\"last leaf\"><a href=\"/glosario\" title=\"\">Glosario de t\\xc3\\xa9rminos</a></li>\\n</ul>\\n</section>\\n<section id=\"block-jalisco-scrollreveal-effects-block-cargar-scrollreveal-js\" class=\"block block-jalisco-scrollreveal-effects is-not-margin is-clearfix clearfix\">\\n\\n      \\n  \\n\\t<script type=\"text/javascript\">\\t\\t\\n\\t\\t\\n\\t\\t// Funci\\xc3\\xb3n para cargar los efectos en los elementos asignados\\n\\t\\tjQuery( document ).ready( function( $ ) {\\n\\t$( \".main-links .main-link-one a span \" ).attr( \"data-sr\", \"enter bottom wait 0.1s\" );$( \".main-links .main-link-two a span \" ).attr( \"data-sr\", \"enter bottom wait 0.2s\" );$( \".main-links .main-link-three a span \" ).attr( \"data-sr\", \"enter bottom wait 0.3s\" ); } );\\n\\t\\n\\t\\t\\t\\tjQuery( document ).ready( function($) {\\n\\t\\t\\n\\t\\t\\t        \"use strict\";\\n\\t\\t\\n\\t\\t\\t        window.sr = new scrollReveal({\\n\\t\\t\\t          reset: true,\\n\\t\\t\\t          move: \"50px\",\\n\\t\\t\\t          mobile: true\\n\\t\\t\\t        } );\\n\\t\\t\\n\\t\\t\\t      } );\\n\\t\\n\\t\\t\\t</script>\\n</section>\\n  </div>\\n    </div>\\n  </footer>\\n\\n\\n\\n<div class=\"overlay\"></div>\\n  <script src=\"https://datos.jalisco.gob.mx/profiles/dkan/modules/contrib/panopoly_widgets/panopoly-widgets.js?prgnt7\"></script>\\n<script src=\"https://datos.jalisco.gob.mx/profiles/dkan/modules/contrib/panopoly_widgets/panopoly-widgets-spotlight.js?prgnt7\"></script>\\n<script src=\"https://datos.jalisco.gob.mx/sites/all/themes/bootstrap/js/bootstrap.js?prgnt7\"></script>\\n</body>\\n</html>\\n'"
      ]
     },
     "execution_count": 49,
     "metadata": {},
     "output_type": "execute_result"
    }
   ],
   "source": [
    "headers={\n",
    "    'User-Agent':'Mozilla/5.0 (X11; Linux x86_64) AppleWebKit/537.36 (KHTML, like Gecko) Chrome/51.0.2704.106 Safari/537.36 OPR/38.0.2220.41'\n",
    "}\n",
    "html = requests.get('https://datos.jalisco.gob.mx/dataset/incendios-forestales-en-bosque-la-primavera-2019/resource/22a0553d-a518-44a1-a4f8#{}', headers=headers).content\n",
    "html\n",
    "#soup = BeautifulSoup(html,'html')\n",
    "#html.content\n",
    "#soup.select('.data-explorer')\n",
    "\n"
   ]
  },
  {
   "cell_type": "code",
   "execution_count": 50,
   "metadata": {},
   "outputs": [
    {
     "name": "stdout",
     "output_type": "stream",
     "text": [
      "Collecting selenium\n",
      "\u001b[?25l  Downloading https://files.pythonhosted.org/packages/80/d6/4294f0b4bce4de0abf13e17190289f9d0613b0a44e5dd6a7f5ca98459853/selenium-3.141.0-py2.py3-none-any.whl (904kB)\n",
      "\u001b[K    100% |████████████████████████████████| 911kB 1.5MB/s ta 0:00:01\n",
      "\u001b[?25hRequirement already satisfied: urllib3 in /usr/local/lib/python3.7/site-packages (from selenium) (1.25.3)\n",
      "Installing collected packages: selenium\n",
      "Successfully installed selenium-3.141.0\n"
     ]
    }
   ],
   "source": [
    "import sys\n",
    "!{sys.executable} -m pip install selenium\n"
   ]
  },
  {
   "cell_type": "code",
   "execution_count": 54,
   "metadata": {},
   "outputs": [],
   "source": [
    "from selenium import webdriver\n",
    "from selenium.webdriver.common.keys import Keys"
   ]
  },
  {
   "cell_type": "code",
   "execution_count": 57,
   "metadata": {},
   "outputs": [
    {
     "ename": "WebDriverException",
     "evalue": "Message: 'chromedriver' executable needs to be in PATH. Please see https://sites.google.com/a/chromium.org/chromedriver/home\n",
     "output_type": "error",
     "traceback": [
      "\u001b[0;31m------------------------------------------\u001b[0m",
      "\u001b[0;31mFileNotFoundError\u001b[0mTraceback (most recent call last)",
      "\u001b[0;32m/usr/local/lib/python3.7/site-packages/selenium/webdriver/common/service.py\u001b[0m in \u001b[0;36mstart\u001b[0;34m(self)\u001b[0m\n\u001b[1;32m     75\u001b[0m                                             \u001b[0mstderr\u001b[0m\u001b[0;34m=\u001b[0m\u001b[0mself\u001b[0m\u001b[0;34m.\u001b[0m\u001b[0mlog_file\u001b[0m\u001b[0;34m,\u001b[0m\u001b[0;34m\u001b[0m\u001b[0;34m\u001b[0m\u001b[0m\n\u001b[0;32m---> 76\u001b[0;31m                                             stdin=PIPE)\n\u001b[0m\u001b[1;32m     77\u001b[0m         \u001b[0;32mexcept\u001b[0m \u001b[0mTypeError\u001b[0m\u001b[0;34m:\u001b[0m\u001b[0;34m\u001b[0m\u001b[0;34m\u001b[0m\u001b[0m\n",
      "\u001b[0;32m/usr/local/Cellar/python/3.7.3/Frameworks/Python.framework/Versions/3.7/lib/python3.7/subprocess.py\u001b[0m in \u001b[0;36m__init__\u001b[0;34m(self, args, bufsize, executable, stdin, stdout, stderr, preexec_fn, close_fds, shell, cwd, env, universal_newlines, startupinfo, creationflags, restore_signals, start_new_session, pass_fds, encoding, errors, text)\u001b[0m\n\u001b[1;32m    774\u001b[0m                                 \u001b[0merrread\u001b[0m\u001b[0;34m,\u001b[0m \u001b[0merrwrite\u001b[0m\u001b[0;34m,\u001b[0m\u001b[0;34m\u001b[0m\u001b[0;34m\u001b[0m\u001b[0m\n\u001b[0;32m--> 775\u001b[0;31m                                 restore_signals, start_new_session)\n\u001b[0m\u001b[1;32m    776\u001b[0m         \u001b[0;32mexcept\u001b[0m\u001b[0;34m:\u001b[0m\u001b[0;34m\u001b[0m\u001b[0;34m\u001b[0m\u001b[0m\n",
      "\u001b[0;32m/usr/local/Cellar/python/3.7.3/Frameworks/Python.framework/Versions/3.7/lib/python3.7/subprocess.py\u001b[0m in \u001b[0;36m_execute_child\u001b[0;34m(self, args, executable, preexec_fn, close_fds, pass_fds, cwd, env, startupinfo, creationflags, shell, p2cread, p2cwrite, c2pread, c2pwrite, errread, errwrite, restore_signals, start_new_session)\u001b[0m\n\u001b[1;32m   1521\u001b[0m                             \u001b[0merr_msg\u001b[0m \u001b[0;34m+=\u001b[0m \u001b[0;34m': '\u001b[0m \u001b[0;34m+\u001b[0m \u001b[0mrepr\u001b[0m\u001b[0;34m(\u001b[0m\u001b[0merr_filename\u001b[0m\u001b[0;34m)\u001b[0m\u001b[0;34m\u001b[0m\u001b[0;34m\u001b[0m\u001b[0m\n\u001b[0;32m-> 1522\u001b[0;31m                     \u001b[0;32mraise\u001b[0m \u001b[0mchild_exception_type\u001b[0m\u001b[0;34m(\u001b[0m\u001b[0merrno_num\u001b[0m\u001b[0;34m,\u001b[0m \u001b[0merr_msg\u001b[0m\u001b[0;34m,\u001b[0m \u001b[0merr_filename\u001b[0m\u001b[0;34m)\u001b[0m\u001b[0;34m\u001b[0m\u001b[0;34m\u001b[0m\u001b[0m\n\u001b[0m\u001b[1;32m   1523\u001b[0m                 \u001b[0;32mraise\u001b[0m \u001b[0mchild_exception_type\u001b[0m\u001b[0;34m(\u001b[0m\u001b[0merr_msg\u001b[0m\u001b[0;34m)\u001b[0m\u001b[0;34m\u001b[0m\u001b[0;34m\u001b[0m\u001b[0m\n",
      "\u001b[0;31mFileNotFoundError\u001b[0m: [Errno 2] No such file or directory: 'chromedriver': 'chromedriver'",
      "\nDuring handling of the above exception, another exception occurred:\n",
      "\u001b[0;31mWebDriverException\u001b[0mTraceback (most recent call last)",
      "\u001b[0;32m<ipython-input-57-87e0d00a3d73>\u001b[0m in \u001b[0;36m<module>\u001b[0;34m\u001b[0m\n\u001b[0;32m----> 1\u001b[0;31m \u001b[0mdriver\u001b[0m \u001b[0;34m=\u001b[0m \u001b[0mwebdriver\u001b[0m\u001b[0;34m.\u001b[0m\u001b[0mChrome\u001b[0m\u001b[0;34m(\u001b[0m\u001b[0;34m)\u001b[0m\u001b[0;34m\u001b[0m\u001b[0;34m\u001b[0m\u001b[0m\n\u001b[0m\u001b[1;32m      2\u001b[0m \u001b[0mdriver\u001b[0m\u001b[0;34m.\u001b[0m\u001b[0mget\u001b[0m\u001b[0;34m(\u001b[0m\u001b[0;34m\"http://www.python.org\"\u001b[0m\u001b[0;34m)\u001b[0m\u001b[0;34m\u001b[0m\u001b[0;34m\u001b[0m\u001b[0m\n",
      "\u001b[0;32m/usr/local/lib/python3.7/site-packages/selenium/webdriver/chrome/webdriver.py\u001b[0m in \u001b[0;36m__init__\u001b[0;34m(self, executable_path, port, options, service_args, desired_capabilities, service_log_path, chrome_options, keep_alive)\u001b[0m\n\u001b[1;32m     71\u001b[0m             \u001b[0mservice_args\u001b[0m\u001b[0;34m=\u001b[0m\u001b[0mservice_args\u001b[0m\u001b[0;34m,\u001b[0m\u001b[0;34m\u001b[0m\u001b[0;34m\u001b[0m\u001b[0m\n\u001b[1;32m     72\u001b[0m             log_path=service_log_path)\n\u001b[0;32m---> 73\u001b[0;31m         \u001b[0mself\u001b[0m\u001b[0;34m.\u001b[0m\u001b[0mservice\u001b[0m\u001b[0;34m.\u001b[0m\u001b[0mstart\u001b[0m\u001b[0;34m(\u001b[0m\u001b[0;34m)\u001b[0m\u001b[0;34m\u001b[0m\u001b[0;34m\u001b[0m\u001b[0m\n\u001b[0m\u001b[1;32m     74\u001b[0m \u001b[0;34m\u001b[0m\u001b[0m\n\u001b[1;32m     75\u001b[0m         \u001b[0;32mtry\u001b[0m\u001b[0;34m:\u001b[0m\u001b[0;34m\u001b[0m\u001b[0;34m\u001b[0m\u001b[0m\n",
      "\u001b[0;32m/usr/local/lib/python3.7/site-packages/selenium/webdriver/common/service.py\u001b[0m in \u001b[0;36mstart\u001b[0;34m(self)\u001b[0m\n\u001b[1;32m     81\u001b[0m                 raise WebDriverException(\n\u001b[1;32m     82\u001b[0m                     \"'%s' executable needs to be in PATH. %s\" % (\n\u001b[0;32m---> 83\u001b[0;31m                         os.path.basename(self.path), self.start_error_message)\n\u001b[0m\u001b[1;32m     84\u001b[0m                 )\n\u001b[1;32m     85\u001b[0m             \u001b[0;32melif\u001b[0m \u001b[0merr\u001b[0m\u001b[0;34m.\u001b[0m\u001b[0merrno\u001b[0m \u001b[0;34m==\u001b[0m \u001b[0merrno\u001b[0m\u001b[0;34m.\u001b[0m\u001b[0mEACCES\u001b[0m\u001b[0;34m:\u001b[0m\u001b[0;34m\u001b[0m\u001b[0;34m\u001b[0m\u001b[0m\n",
      "\u001b[0;31mWebDriverException\u001b[0m: Message: 'chromedriver' executable needs to be in PATH. Please see https://sites.google.com/a/chromium.org/chromedriver/home\n"
     ]
    }
   ],
   "source": [
    "driver = webdriver.Chrome()\n",
    "driver.get(\"http://www.python.org\")\n"
   ]
  },
  {
   "cell_type": "code",
   "execution_count": 58,
   "metadata": {},
   "outputs": [],
   "source": [
    "import requests"
   ]
  },
  {
   "cell_type": "code",
   "execution_count": 59,
   "metadata": {},
   "outputs": [
    {
     "data": {
      "text/plain": [
       "<Response [200]>"
      ]
     },
     "execution_count": 59,
     "metadata": {},
     "output_type": "execute_result"
    }
   ],
   "source": [
    "data = requests.get('https://api.datos.gob.mx')\n",
    "data"
   ]
  },
  {
   "cell_type": "code",
   "execution_count": null,
   "metadata": {},
   "outputs": [],
   "source": [
    "soup = [e for e in soup]"
   ]
  }
 ],
 "metadata": {
  "kernelspec": {
   "display_name": "Python 3",
   "language": "python",
   "name": "python3"
  },
  "language_info": {
   "codemirror_mode": {
    "name": "ipython",
    "version": 3
   },
   "file_extension": ".py",
   "mimetype": "text/x-python",
   "name": "python",
   "nbconvert_exporter": "python",
   "pygments_lexer": "ipython3",
   "version": "3.7.3"
  }
 },
 "nbformat": 4,
 "nbformat_minor": 2
}
